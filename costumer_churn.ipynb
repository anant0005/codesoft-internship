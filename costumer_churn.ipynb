{
  "nbformat": 4,
  "nbformat_minor": 0,
  "metadata": {
    "colab": {
      "provenance": []
    },
    "kernelspec": {
      "name": "python3",
      "display_name": "Python 3"
    },
    "language_info": {
      "name": "python"
    }
  },
  "cells": [
    {
      "cell_type": "code",
      "execution_count": null,
      "metadata": {
        "colab": {
          "base_uri": "https://localhost:8080/"
        },
        "id": "U43QHqQdGpLW",
        "outputId": "a7bd199b-199e-491a-d914-0fff28dc832a"
      },
      "outputs": [
        {
          "output_type": "execute_result",
          "data": {
            "text/plain": [
              "(   RowNumber  CustomerId   Surname  CreditScore Geography  Gender  Age  \\\n",
              " 0          1    15634602  Hargrave          619    France  Female   42   \n",
              " 1          2    15647311      Hill          608     Spain  Female   41   \n",
              " 2          3    15619304      Onio          502    France  Female   42   \n",
              " 3          4    15701354      Boni          699    France  Female   39   \n",
              " 4          5    15737888  Mitchell          850     Spain  Female   43   \n",
              " \n",
              "    Tenure    Balance  NumOfProducts  HasCrCard  IsActiveMember  \\\n",
              " 0       2       0.00              1          1               1   \n",
              " 1       1   83807.86              1          0               1   \n",
              " 2       8  159660.80              3          1               0   \n",
              " 3       1       0.00              2          0               0   \n",
              " 4       2  125510.82              1          1               1   \n",
              " \n",
              "    EstimatedSalary  Exited  \n",
              " 0        101348.88       1  \n",
              " 1        112542.58       0  \n",
              " 2        113931.57       1  \n",
              " 3         93826.63       0  \n",
              " 4         79084.10       0  ,\n",
              " Index(['RowNumber', 'CustomerId', 'Surname', 'CreditScore', 'Geography',\n",
              "        'Gender', 'Age', 'Tenure', 'Balance', 'NumOfProducts', 'HasCrCard',\n",
              "        'IsActiveMember', 'EstimatedSalary', 'Exited'],\n",
              "       dtype='object'))"
            ]
          },
          "metadata": {},
          "execution_count": 1
        }
      ],
      "source": [
        "import pandas as pd\n",
        "\n",
        "# Load the dataset\n",
        "file_path = ('/content/Churn_Modelling.csv')\n",
        "data = pd.read_csv(file_path)\n",
        "\n",
        "# Display the first few rows of the dataset\n",
        "data.head(), data.columns"
      ]
    },
    {
      "cell_type": "code",
      "source": [
        "from sklearn.model_selection import train_test_split\n",
        "from sklearn.preprocessing import StandardScaler, LabelEncoder\n",
        "\n",
        "# Drop unnecessary columns\n",
        "data = data.drop(columns=['RowNumber', 'CustomerId', 'Surname'])\n",
        "\n",
        "# Encode categorical variables\n",
        "label_encoder_geography = LabelEncoder()\n",
        "data['Geography'] = label_encoder_geography.fit_transform(data['Geography'])\n",
        "\n",
        "label_encoder_gender = LabelEncoder()\n",
        "data['Gender'] = label_encoder_gender.fit_transform(data['Gender'])\n",
        "\n",
        "# Split the data into features and target variable\n",
        "X = data.drop(columns=['Exited'])\n",
        "y = data['Exited']\n",
        "\n",
        "# Split the data into training and testing sets\n",
        "X_train, X_test, y_train, y_test = train_test_split(X, y, test_size=0.2, random_state=42)\n",
        "\n",
        "# Scale the features\n",
        "scaler = StandardScaler()\n",
        "X_train = scaler.fit_transform(X_train)\n",
        "X_test = scaler.transform(X_test)\n",
        "\n",
        "X_train[:5], X_test[:5]\n"
      ],
      "metadata": {
        "colab": {
          "base_uri": "https://localhost:8080/"
        },
        "id": "PdmSn5EHG8_B",
        "outputId": "774b2224-0cc2-423a-d10c-dbfe73649aa6"
      },
      "execution_count": null,
      "outputs": [
        {
          "output_type": "execute_result",
          "data": {
            "text/plain": [
              "(array([[ 0.35649971, -0.9055496 ,  0.91324755, -0.6557859 ,  0.34567966,\n",
              "         -1.21847056,  0.80843615,  0.64920267,  0.97481699,  1.36766974],\n",
              "        [-0.20389777,  0.30164867,  0.91324755,  0.29493847, -0.3483691 ,\n",
              "          0.69683765,  0.80843615,  0.64920267,  0.97481699,  1.6612541 ],\n",
              "        [-0.96147213,  1.50884694,  0.91324755, -1.41636539, -0.69539349,\n",
              "          0.61862909, -0.91668767,  0.64920267, -1.02583358, -0.25280688],\n",
              "        [-0.94071667, -0.9055496 , -1.09499335, -1.13114808,  1.38675281,\n",
              "          0.95321202, -0.91668767,  0.64920267, -1.02583358,  0.91539272],\n",
              "        [-1.39733684, -0.9055496 ,  0.91324755,  1.62595257,  1.38675281,\n",
              "          1.05744869, -0.91668767, -1.54035103, -1.02583358, -1.05960019]]),\n",
              " array([[-0.57749609,  0.30164867,  0.91324755, -0.6557859 , -0.69539349,\n",
              "          0.32993735,  0.80843615, -1.54035103, -1.02583358, -1.01960511],\n",
              "        [-0.29729735, -0.9055496 ,  0.91324755,  0.3900109 , -1.38944225,\n",
              "         -1.21847056,  0.80843615,  0.64920267,  0.97481699,  0.79888291],\n",
              "        [-0.52560743,  1.50884694, -1.09499335,  0.48508334, -0.3483691 ,\n",
              "         -1.21847056,  0.80843615,  0.64920267, -1.02583358, -0.72797953],\n",
              "        [-1.51149188,  0.30164867,  0.91324755,  1.91116988,  1.03972843,\n",
              "          0.68927246,  0.80843615,  0.64920267,  0.97481699,  1.22138664],\n",
              "        [-0.9510944 ,  1.50884694, -1.09499335, -1.13114808,  0.69270405,\n",
              "          0.78283876, -0.91668767,  0.64920267,  0.97481699,  0.24756011]]))"
            ]
          },
          "metadata": {},
          "execution_count": 2
        }
      ]
    },
    {
      "cell_type": "code",
      "source": [
        "from sklearn.linear_model import LogisticRegression\n",
        "from sklearn.ensemble import RandomForestClassifier, GradientBoostingClassifier\n",
        "from sklearn.metrics import accuracy_score, precision_score, recall_score, f1_score\n",
        "\n",
        "# Initialize the models\n",
        "log_reg = LogisticRegression(random_state=42)\n",
        "rf_clf = RandomForestClassifier(random_state=42)\n",
        "gb_clf = GradientBoostingClassifier(random_state=42)\n",
        "\n",
        "# Train the Logistic Regression model\n",
        "log_reg.fit(X_train, y_train)\n",
        "y_pred_log_reg = log_reg.predict(X_test)\n",
        "\n",
        "# Train the Random Forest model\n",
        "rf_clf.fit(X_train, y_train)\n",
        "y_pred_rf_clf = rf_clf.predict(X_test)\n",
        "\n",
        "# Train the Gradient Boosting model\n",
        "gb_clf.fit(X_train, y_train)\n",
        "y_pred_gb_clf = gb_clf.predict(X_test)\n",
        "\n",
        "# Evaluate the models\n",
        "metrics = {\n",
        "    \"Logistic Regression\": {\n",
        "        \"Accuracy\": accuracy_score(y_test, y_pred_log_reg),\n",
        "        \"Precision\": precision_score(y_test, y_pred_log_reg),\n",
        "        \"Recall\": recall_score(y_test, y_pred_log_reg),\n",
        "        \"F1 Score\": f1_score(y_test, y_pred_log_reg)\n",
        "    },\n",
        "    \"Random Forest\": {\n",
        "        \"Accuracy\": accuracy_score(y_test, y_pred_rf_clf),\n",
        "        \"Precision\": precision_score(y_test, y_pred_rf_clf),\n",
        "        \"Recall\": recall_score(y_test, y_pred_rf_clf),\n",
        "        \"F1 Score\": f1_score(y_test, y_pred_rf_clf)\n",
        "    },\n",
        "    \"Gradient Boosting\": {\n",
        "        \"Accuracy\": accuracy_score(y_test, y_pred_gb_clf),\n",
        "        \"Precision\": precision_score(y_test, y_pred_gb_clf),\n",
        "        \"Recall\": recall_score(y_test, y_pred_gb_clf),\n",
        "        \"F1 Score\": f1_score(y_test, y_pred_gb_clf)\n",
        "    }\n",
        "}\n",
        "\n",
        "metrics\n"
      ],
      "metadata": {
        "colab": {
          "base_uri": "https://localhost:8080/"
        },
        "id": "W_9ldiA8G9CY",
        "outputId": "e0670279-ee00-4912-e114-b14b92317a2f"
      },
      "execution_count": null,
      "outputs": [
        {
          "output_type": "execute_result",
          "data": {
            "text/plain": [
              "{'Logistic Regression': {'Accuracy': 0.815,\n",
              "  'Precision': 0.5966386554621849,\n",
              "  'Recall': 0.1806615776081425,\n",
              "  'F1 Score': 0.27734375},\n",
              " 'Random Forest': {'Accuracy': 0.8645,\n",
              "  'Precision': 0.7479674796747967,\n",
              "  'Recall': 0.4681933842239186,\n",
              "  'F1 Score': 0.5758998435054773},\n",
              " 'Gradient Boosting': {'Accuracy': 0.8655,\n",
              "  'Precision': 0.7540983606557377,\n",
              "  'Recall': 0.4681933842239186,\n",
              "  'F1 Score': 0.5777080062794349}}"
            ]
          },
          "metadata": {},
          "execution_count": 3
        }
      ]
    },
    {
      "cell_type": "code",
      "source": [],
      "metadata": {
        "id": "bK-cfoGmG9Ex"
      },
      "execution_count": null,
      "outputs": []
    },
    {
      "cell_type": "code",
      "source": [],
      "metadata": {
        "id": "xzmNZQWTG9Ht"
      },
      "execution_count": null,
      "outputs": []
    },
    {
      "cell_type": "code",
      "source": [],
      "metadata": {
        "id": "m1fAij0uG9Jy"
      },
      "execution_count": null,
      "outputs": []
    },
    {
      "cell_type": "code",
      "source": [],
      "metadata": {
        "id": "o9sCSZFPG9Mb"
      },
      "execution_count": null,
      "outputs": []
    },
    {
      "cell_type": "code",
      "source": [],
      "metadata": {
        "id": "LtQnt1C-G9Pw"
      },
      "execution_count": null,
      "outputs": []
    }
  ]
}