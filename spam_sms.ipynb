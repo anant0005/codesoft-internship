{
  "nbformat": 4,
  "nbformat_minor": 0,
  "metadata": {
    "colab": {
      "provenance": []
    },
    "kernelspec": {
      "name": "python3",
      "display_name": "Python 3"
    },
    "language_info": {
      "name": "python"
    }
  },
  "cells": [
    {
      "cell_type": "code",
      "execution_count": null,
      "metadata": {
        "colab": {
          "base_uri": "https://localhost:8080/"
        },
        "id": "2IK1QL20IMIN",
        "outputId": "e40bcbc4-582c-4260-f3d9-b9a91b8e2508"
      },
      "outputs": [
        {
          "output_type": "execute_result",
          "data": {
            "text/plain": [
              "{'Naive Bayes': {'Accuracy': 0.9668161434977578,\n",
              "  'Precision': 1.0,\n",
              "  'Recall': 0.7533333333333333,\n",
              "  'F1 Score': 0.8593155893536121},\n",
              " 'Logistic Regression': {'Accuracy': 0.9524663677130045,\n",
              "  'Precision': 0.970873786407767,\n",
              "  'Recall': 0.6666666666666666,\n",
              "  'F1 Score': 0.7905138339920948},\n",
              " 'Support Vector Machine': {'Accuracy': 0.979372197309417,\n",
              "  'Precision': 0.9703703703703703,\n",
              "  'Recall': 0.8733333333333333,\n",
              "  'F1 Score': 0.9192982456140351}}"
            ]
          },
          "metadata": {},
          "execution_count": 1
        }
      ],
      "source": [
        "import pandas as pd\n",
        "from sklearn.model_selection import train_test_split\n",
        "from sklearn.feature_extraction.text import TfidfVectorizer\n",
        "from sklearn.naive_bayes import MultinomialNB\n",
        "from sklearn.linear_model import LogisticRegression\n",
        "from sklearn.svm import SVC\n",
        "from sklearn.metrics import accuracy_score, precision_score, recall_score, f1_score\n",
        "\n",
        "# Load the dataset\n",
        "file_path = ('/content/spam.csv')\n",
        "data = pd.read_csv(file_path, encoding='latin-1')\n",
        "\n",
        "# Drop unnecessary columns and rename columns for convenience\n",
        "data = data.drop(columns=['Unnamed: 2', 'Unnamed: 3', 'Unnamed: 4'])\n",
        "data.columns = ['label', 'message']\n",
        "\n",
        "# Encode the labels (spam: 1, ham: 0)\n",
        "data['label'] = data['label'].map({'spam': 1, 'ham': 0})\n",
        "\n",
        "# Split the data into features and target variable\n",
        "X = data['message']\n",
        "y = data['label']\n",
        "\n",
        "# Split the data into training and testing sets\n",
        "X_train, X_test, y_train, y_test = train_test_split(X, y, test_size=0.2, random_state=42)\n",
        "\n",
        "# Vectorize the text data using TF-IDF\n",
        "tfidf_vectorizer = TfidfVectorizer(stop_words='english')\n",
        "X_train_tfidf = tfidf_vectorizer.fit_transform(X_train)\n",
        "X_test_tfidf = tfidf_vectorizer.transform(X_test)\n",
        "\n",
        "# Initialize the models\n",
        "nb_clf = MultinomialNB()\n",
        "log_reg = LogisticRegression(max_iter=1000, random_state=42)\n",
        "svm_clf = SVC(kernel='linear', random_state=42)\n",
        "\n",
        "# Train the Naive Bayes model\n",
        "nb_clf.fit(X_train_tfidf, y_train)\n",
        "y_pred_nb = nb_clf.predict(X_test_tfidf)\n",
        "\n",
        "# Train the Logistic Regression model\n",
        "log_reg.fit(X_train_tfidf, y_train)\n",
        "y_pred_log_reg = log_reg.predict(X_test_tfidf)\n",
        "\n",
        "# Train the SVM model\n",
        "svm_clf.fit(X_train_tfidf, y_train)\n",
        "y_pred_svm = svm_clf.predict(X_test_tfidf)\n",
        "\n",
        "# Evaluate the models\n",
        "models = {\n",
        "    \"Naive Bayes\": y_pred_nb,\n",
        "    \"Logistic Regression\": y_pred_log_reg,\n",
        "    \"Support Vector Machine\": y_pred_svm\n",
        "}\n",
        "\n",
        "metrics = {}\n",
        "for model_name, y_pred in models.items():\n",
        "    metrics[model_name] = {\n",
        "        \"Accuracy\": accuracy_score(y_test, y_pred),\n",
        "        \"Precision\": precision_score(y_test, y_pred),\n",
        "        \"Recall\": recall_score(y_test, y_pred),\n",
        "        \"F1 Score\": f1_score(y_test, y_pred)\n",
        "    }\n",
        "\n",
        "metrics\n"
      ]
    }
  ]
}